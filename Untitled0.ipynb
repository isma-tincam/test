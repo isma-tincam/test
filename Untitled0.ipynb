{
  "nbformat": 4,
  "nbformat_minor": 0,
  "metadata": {
    "colab": {
      "name": "Untitled0.ipynb",
      "provenance": [],
      "toc_visible": true,
      "authorship_tag": "ABX9TyP+6bVxS9+1wDP3gy/PlkiZ",
      "include_colab_link": true
    },
    "kernelspec": {
      "name": "python3",
      "display_name": "Python 3"
    },
    "accelerator": "GPU"
  },
  "cells": [
    {
      "cell_type": "markdown",
      "metadata": {
        "id": "view-in-github",
        "colab_type": "text"
      },
      "source": [
        "<a href=\"https://colab.research.google.com/github/isma-tincam/test/blob/master/Untitled0.ipynb\" target=\"_parent\"><img src=\"https://colab.research.google.com/assets/colab-badge.svg\" alt=\"Open In Colab\"/></a>"
      ]
    },
    {
      "cell_type": "code",
      "metadata": {
        "id": "wf2gPwMq5EyA",
        "colab_type": "code",
        "colab": {}
      },
      "source": [
        ""
      ],
      "execution_count": 0,
      "outputs": []
    },
    {
      "cell_type": "code",
      "metadata": {
        "id": "Hj_ySWKl9uOT",
        "colab_type": "code",
        "colab": {
          "base_uri": "https://localhost:8080/",
          "height": 54
        },
        "outputId": "3de0a5ac-5e11-4ee4-c3c4-bb005fa9c1ed"
      },
      "source": [
        "from google.colab import drive\n",
        "drive.mount('/content/drive')"
      ],
      "execution_count": 3,
      "outputs": [
        {
          "output_type": "stream",
          "text": [
            "Drive already mounted at /content/drive; to attempt to forcibly remount, call drive.mount(\"/content/drive\", force_remount=True).\n"
          ],
          "name": "stdout"
        }
      ]
    },
    {
      "cell_type": "code",
      "metadata": {
        "id": "jsUqpb_k-KfT",
        "colab_type": "code",
        "colab": {}
      },
      "source": [
        "import sys\n",
        "import os\n",
        "from tensorflow.python.keras.preprocessing.image import ImageDataGenerator\n",
        "from tensorflow.python.keras import optimizers\n",
        "from tensorflow.python.keras.models import Sequential\n",
        "from tensorflow.python.keras.layers import  Dropout,Flatten,Dense,Activation,Convolution2D,MaxPooling2D\n",
        "from tensorflow.python.keras import backend as k\n"
      ],
      "execution_count": 0,
      "outputs": []
    },
    {
      "cell_type": "code",
      "metadata": {
        "id": "o4x0d-wnAKOi",
        "colab_type": "code",
        "colab": {
          "base_uri": "https://localhost:8080/",
          "height": 1000
        },
        "outputId": "7c0d9c32-cfd5-4e7e-c742-7ce734371f87"
      },
      "source": [
        "k.clear_session()\n",
        "data_entrenar='/content/drive/My Drive/proymindat/entrenamiento'\n",
        "data_validar='/content/drive/My Drive/proymindat/validacion'\n",
        "epocas=40\n",
        "altura, longitud=200, 200\n",
        "batch_size=5\n",
        "pasos=45\n",
        "pasos_validacion=10\n",
        "filtrosConv1=64\n",
        "filtrosConv2=128\n",
        "filtrosConv3=256\n",
        "tamFiltro1=(4,4)\n",
        "tamFiltro2=(3,3)\n",
        "tamFiltro3=(2,2)\n",
        "tamPool=(2,2)\n",
        "clases=3\n",
        "lr=0.0005\n",
        "\n",
        "entrenar_dataGen= ImageDataGenerator(rescale=1./255)\n",
        "validar_dataGen= ImageDataGenerator(rescale=1./255)\n",
        "\n",
        "imagenEntrenar= entrenar_dataGen.flow_from_directory(\n",
        "    data_entrenar,\n",
        "    target_size=(altura, longitud),\n",
        "    batch_size=batch_size,\n",
        "    class_mode='categorical'\n",
        ")\n",
        "\n",
        "imagenValidar= validar_dataGen.flow_from_directory(\n",
        "    data_validar,\n",
        "    target_size=(altura, longitud),\n",
        "    batch_size=batch_size,\n",
        "    class_mode='categorical'\n",
        ")\n",
        "\n",
        "cnn= Sequential()\n",
        "cnn.add(Convolution2D(filtrosConv1,tamFiltro1,padding='same',input_shape=(altura,longitud,3),activation='relu'))\n",
        "cnn.add(MaxPooling2D(pool_size=tamPool))\n",
        "cnn.add(Convolution2D(filtrosConv2,tamFiltro2,padding='same',activation='relu'))\n",
        "cnn.add(MaxPooling2D(pool_size=tamPool))\n",
        "#cnn.add(Convolution2D(filtrosConv3,tamFiltro3,padding='same',activation='relu'))\n",
        "#cnn.add(MaxPooling2D(pool_size=tamPool))\n",
        "cnn.add(Flatten())\n",
        "#cnn.add(Dense(256,activation='relu'))\n",
        "#cnn.add(Dropout(0.3))\n",
        "cnn.add(Dense(256,activation='relu'))\n",
        "cnn.add(Dropout(0.5))\n",
        "\n",
        "cnn.add(Dense(clases, activation='softmax'))\n",
        "cnn.compile(loss='categorical_crossentropy', optimizer=optimizers.Adam(lr=lr), metrics=['accuracy'])\n",
        "cnn.fit(imagenEntrenar,steps_per_epoch=pasos,epochs=epocas, validation_data=imagenValidar, validation_steps=pasos_validacion)\n",
        "dir='./modelo'\n",
        "if not os.path.exists(dir):\n",
        "  os.mkdir(dir)\n",
        "cnn.save('./modelo/modelo.h5')\n",
        "cnn.save_weights('./modelo/pesos.h5')\n"
      ],
      "execution_count": 23,
      "outputs": [
        {
          "output_type": "stream",
          "text": [
            "Found 778 images belonging to 3 classes.\n",
            "Found 192 images belonging to 3 classes.\n",
            "Epoch 1/40\n",
            "44/45 [============================>.] - ETA: 0s - loss: 1.6251 - acc: 0.4818Epoch 1/40\n",
            "45/45 [==============================] - 39s 872ms/step - loss: 1.6117 - acc: 0.4756 - val_loss: 0.7890 - val_acc: 0.7200\n",
            "Epoch 2/40\n",
            "44/45 [============================>.] - ETA: 0s - loss: 0.8220 - acc: 0.6818Epoch 1/40\n",
            "45/45 [==============================] - 26s 580ms/step - loss: 0.8188 - acc: 0.6800 - val_loss: 0.7438 - val_acc: 0.6800\n",
            "Epoch 3/40\n",
            "44/45 [============================>.] - ETA: 0s - loss: 0.8201 - acc: 0.6697Epoch 1/40\n",
            "45/45 [==============================] - 29s 647ms/step - loss: 0.8215 - acc: 0.6637 - val_loss: 0.8091 - val_acc: 0.6800\n",
            "Epoch 4/40\n",
            "44/45 [============================>.] - ETA: 0s - loss: 0.8501 - acc: 0.6591Epoch 1/40\n",
            "45/45 [==============================] - 15s 343ms/step - loss: 0.8508 - acc: 0.6578 - val_loss: 0.7804 - val_acc: 0.6200\n",
            "Epoch 5/40\n",
            "44/45 [============================>.] - ETA: 0s - loss: 0.7430 - acc: 0.7136Epoch 1/40\n",
            "45/45 [==============================] - 3s 73ms/step - loss: 0.7511 - acc: 0.7067 - val_loss: 0.6545 - val_acc: 0.7000\n",
            "Epoch 6/40\n",
            "44/45 [============================>.] - ETA: 0s - loss: 0.7808 - acc: 0.6773Epoch 1/40\n",
            "45/45 [==============================] - 3s 73ms/step - loss: 0.7859 - acc: 0.6756 - val_loss: 0.6090 - val_acc: 0.7200\n",
            "Epoch 7/40\n",
            "44/45 [============================>.] - ETA: 0s - loss: 0.7453 - acc: 0.6927Epoch 1/40\n",
            "45/45 [==============================] - 3s 76ms/step - loss: 0.7370 - acc: 0.6996 - val_loss: 0.5932 - val_acc: 0.7800\n",
            "Epoch 8/40\n",
            "44/45 [============================>.] - ETA: 0s - loss: 0.6578 - acc: 0.7091Epoch 1/40\n",
            "45/45 [==============================] - 3s 73ms/step - loss: 0.6609 - acc: 0.7067 - val_loss: 0.6185 - val_acc: 0.8000\n",
            "Epoch 9/40\n",
            "44/45 [============================>.] - ETA: 0s - loss: 0.6229 - acc: 0.7636Epoch 1/40\n",
            "45/45 [==============================] - 3s 73ms/step - loss: 0.6164 - acc: 0.7644 - val_loss: 0.4961 - val_acc: 0.8200\n",
            "Epoch 10/40\n",
            "44/45 [============================>.] - ETA: 0s - loss: 0.5490 - acc: 0.7682Epoch 1/40\n",
            "45/45 [==============================] - 3s 73ms/step - loss: 0.5501 - acc: 0.7644 - val_loss: 0.5559 - val_acc: 0.7800\n",
            "Epoch 11/40\n",
            "44/45 [============================>.] - ETA: 0s - loss: 0.4643 - acc: 0.8440Epoch 1/40\n",
            "45/45 [==============================] - 3s 75ms/step - loss: 0.4558 - acc: 0.8475 - val_loss: 0.5046 - val_acc: 0.8000\n",
            "Epoch 12/40\n",
            "44/45 [============================>.] - ETA: 0s - loss: 0.4651 - acc: 0.8182Epoch 1/40\n",
            "45/45 [==============================] - 3s 73ms/step - loss: 0.4604 - acc: 0.8222 - val_loss: 0.4774 - val_acc: 0.7800\n",
            "Epoch 13/40\n",
            "44/45 [============================>.] - ETA: 0s - loss: 0.4158 - acc: 0.8636Epoch 1/40\n",
            "45/45 [==============================] - 3s 73ms/step - loss: 0.4174 - acc: 0.8622 - val_loss: 0.7311 - val_acc: 0.6600\n",
            "Epoch 14/40\n",
            "44/45 [============================>.] - ETA: 0s - loss: 0.3661 - acc: 0.8807Epoch 1/40\n",
            "45/45 [==============================] - 3s 76ms/step - loss: 0.3633 - acc: 0.8789 - val_loss: 0.5194 - val_acc: 0.8200\n",
            "Epoch 15/40\n",
            "44/45 [============================>.] - ETA: 0s - loss: 0.2347 - acc: 0.9220Epoch 1/40\n",
            "45/45 [==============================] - 3s 74ms/step - loss: 0.2345 - acc: 0.9238 - val_loss: 0.5024 - val_acc: 0.7800\n",
            "Epoch 16/40\n",
            "44/45 [============================>.] - ETA: 0s - loss: 0.2911 - acc: 0.9000Epoch 1/40\n",
            "45/45 [==============================] - 3s 73ms/step - loss: 0.2869 - acc: 0.9022 - val_loss: 0.7749 - val_acc: 0.7600\n",
            "Epoch 17/40\n",
            "44/45 [============================>.] - ETA: 0s - loss: 0.2415 - acc: 0.9045Epoch 1/40\n",
            "45/45 [==============================] - 3s 73ms/step - loss: 0.2388 - acc: 0.9067 - val_loss: 1.0083 - val_acc: 0.6000\n",
            "Epoch 18/40\n",
            "44/45 [============================>.] - ETA: 0s - loss: 0.3551 - acc: 0.8773Epoch 1/40\n",
            "45/45 [==============================] - 3s 73ms/step - loss: 0.3509 - acc: 0.8800 - val_loss: 0.4949 - val_acc: 0.7800\n",
            "Epoch 19/40\n",
            "44/45 [============================>.] - ETA: 0s - loss: 0.1677 - acc: 0.9545Epoch 1/40\n",
            "45/45 [==============================] - 3s 73ms/step - loss: 0.1772 - acc: 0.9511 - val_loss: 0.5465 - val_acc: 0.7600\n",
            "Epoch 20/40\n",
            "44/45 [============================>.] - ETA: 0s - loss: 0.1618 - acc: 0.9409Epoch 1/40\n",
            "45/45 [==============================] - 3s 73ms/step - loss: 0.1600 - acc: 0.9422 - val_loss: 0.4461 - val_acc: 0.7800\n",
            "Epoch 21/40\n",
            "44/45 [============================>.] - ETA: 0s - loss: 0.0963 - acc: 0.9633Epoch 1/40\n",
            "45/45 [==============================] - 3s 74ms/step - loss: 0.1081 - acc: 0.9596 - val_loss: 0.7439 - val_acc: 0.7800\n",
            "Epoch 22/40\n",
            "44/45 [============================>.] - ETA: 0s - loss: 0.1383 - acc: 0.9636Epoch 1/40\n",
            "45/45 [==============================] - 3s 74ms/step - loss: 0.1352 - acc: 0.9644 - val_loss: 0.9261 - val_acc: 0.7800\n",
            "Epoch 23/40\n",
            "44/45 [============================>.] - ETA: 0s - loss: 0.0952 - acc: 0.9591Epoch 1/40\n",
            "45/45 [==============================] - 3s 73ms/step - loss: 0.0938 - acc: 0.9600 - val_loss: 0.4799 - val_acc: 0.7800\n",
            "Epoch 24/40\n",
            "44/45 [============================>.] - ETA: 0s - loss: 0.0995 - acc: 0.9679Epoch 1/40\n",
            "45/45 [==============================] - 3s 74ms/step - loss: 0.0974 - acc: 0.9686 - val_loss: 0.7280 - val_acc: 0.8200\n",
            "Epoch 25/40\n",
            "44/45 [============================>.] - ETA: 0s - loss: 0.0370 - acc: 0.9864Epoch 1/40\n",
            "45/45 [==============================] - 3s 73ms/step - loss: 0.0363 - acc: 0.9867 - val_loss: 0.7596 - val_acc: 0.8200\n",
            "Epoch 26/40\n",
            "44/45 [============================>.] - ETA: 0s - loss: 0.0546 - acc: 0.9908Epoch 1/40\n",
            "45/45 [==============================] - 3s 73ms/step - loss: 0.0534 - acc: 0.9910 - val_loss: 0.8310 - val_acc: 0.8000\n",
            "Epoch 27/40\n",
            "44/45 [============================>.] - ETA: 0s - loss: 0.1339 - acc: 0.9727Epoch 1/40\n",
            "45/45 [==============================] - 3s 73ms/step - loss: 0.1310 - acc: 0.9733 - val_loss: 0.4758 - val_acc: 0.7600\n",
            "Epoch 28/40\n",
            "44/45 [============================>.] - ETA: 0s - loss: 0.0925 - acc: 0.9682Epoch 1/40\n",
            "45/45 [==============================] - 3s 74ms/step - loss: 0.0939 - acc: 0.9689 - val_loss: 0.5833 - val_acc: 0.7600\n",
            "Epoch 29/40\n",
            "44/45 [============================>.] - ETA: 0s - loss: 0.0639 - acc: 0.9773Epoch 1/40\n",
            "45/45 [==============================] - 3s 73ms/step - loss: 0.0677 - acc: 0.9733 - val_loss: 0.6838 - val_acc: 0.7600\n",
            "Epoch 30/40\n",
            "44/45 [============================>.] - ETA: 0s - loss: 0.0653 - acc: 0.9817Epoch 1/40\n",
            "45/45 [==============================] - 3s 73ms/step - loss: 0.0639 - acc: 0.9821 - val_loss: 0.6473 - val_acc: 0.8200\n",
            "Epoch 31/40\n",
            "44/45 [============================>.] - ETA: 0s - loss: 0.0358 - acc: 0.9909Epoch 1/40\n",
            "45/45 [==============================] - 3s 74ms/step - loss: 0.0356 - acc: 0.9911 - val_loss: 0.5320 - val_acc: 0.8200\n",
            "Epoch 32/40\n",
            "44/45 [============================>.] - ETA: 0s - loss: 0.0517 - acc: 0.9864Epoch 1/40\n",
            "45/45 [==============================] - 3s 74ms/step - loss: 0.0506 - acc: 0.9867 - val_loss: 0.9573 - val_acc: 0.8400\n",
            "Epoch 33/40\n",
            "44/45 [============================>.] - ETA: 0s - loss: 0.0664 - acc: 0.9773Epoch 1/40\n",
            "45/45 [==============================] - 3s 74ms/step - loss: 0.0650 - acc: 0.9778 - val_loss: 0.6475 - val_acc: 0.8200\n",
            "Epoch 34/40\n",
            "44/45 [============================>.] - ETA: 0s - loss: 0.0492 - acc: 0.9818Epoch 1/40\n",
            "45/45 [==============================] - 3s 73ms/step - loss: 0.0482 - acc: 0.9822 - val_loss: 0.5687 - val_acc: 0.8000\n",
            "Epoch 35/40\n",
            "44/45 [============================>.] - ETA: 0s - loss: 0.0566 - acc: 0.9862Epoch 1/40\n",
            "45/45 [==============================] - 3s 76ms/step - loss: 0.0556 - acc: 0.9865 - val_loss: 0.4724 - val_acc: 0.7600\n",
            "Epoch 36/40\n",
            "44/45 [============================>.] - ETA: 0s - loss: 0.1491 - acc: 0.9545Epoch 1/40\n",
            "45/45 [==============================] - 3s 74ms/step - loss: 0.1469 - acc: 0.9556 - val_loss: 0.5432 - val_acc: 0.7000\n",
            "Epoch 37/40\n",
            "44/45 [============================>.] - ETA: 0s - loss: 0.0469 - acc: 0.9955Epoch 1/40\n",
            "45/45 [==============================] - 3s 73ms/step - loss: 0.0464 - acc: 0.9956 - val_loss: 0.7837 - val_acc: 0.8200\n",
            "Epoch 38/40\n",
            "44/45 [============================>.] - ETA: 0s - loss: 0.0542 - acc: 0.9862Epoch 1/40\n",
            "45/45 [==============================] - 3s 74ms/step - loss: 0.0535 - acc: 0.9865 - val_loss: 0.5840 - val_acc: 0.7400\n",
            "Epoch 39/40\n",
            "44/45 [============================>.] - ETA: 0s - loss: 0.0446 - acc: 0.9955Epoch 1/40\n",
            "45/45 [==============================] - 3s 74ms/step - loss: 0.0436 - acc: 0.9956 - val_loss: 0.5848 - val_acc: 0.7800\n",
            "Epoch 40/40\n",
            "44/45 [============================>.] - ETA: 0s - loss: 0.0214 - acc: 0.9954Epoch 1/40\n",
            "45/45 [==============================] - 3s 75ms/step - loss: 0.0211 - acc: 0.9955 - val_loss: 0.7933 - val_acc: 0.7600\n"
          ],
          "name": "stdout"
        }
      ]
    },
    {
      "cell_type": "code",
      "metadata": {
        "id": "jhO_Fl2QWQs4",
        "colab_type": "code",
        "colab": {
          "base_uri": "https://localhost:8080/",
          "height": 51
        },
        "outputId": "9234c105-f7d6-4d6b-d443-98e28e9c9e4c"
      },
      "source": [
        "import numpy as np\n",
        "from tensorflow.python.keras.preprocessing.image import load_img, img_to_array\n",
        "from tensorflow.python.keras.models import load_model\n",
        "modelos='./modelo/modelo.h5'\n",
        "pesos1='./modelo/pesos.h5'\n",
        "cnn1=load_model('./modelo/modelo.h5')\n",
        "cnn1.load_weights(pesos1)\n",
        "\n",
        "def predict(file):\n",
        "  x=load_img(file, target_size=(200,200))\n",
        "  x=img_to_array(x)\n",
        "  x=np.expand_dims(x, axis=0)\n",
        "  arreglo=cnn1.predict(x)\n",
        "  resultado=arreglo[0]\n",
        "  respuesta=np.argmax(resultado)\n",
        "  if respuesta==0:\n",
        "    print('centro')\n",
        "  elif respuesta==1:\n",
        "    print('norte')\n",
        "  elif respuesta==2:\n",
        "    print('sur')\n",
        "  return respuesta\n",
        "\n",
        "predict('2.jpg') \n",
        "\n",
        "\n"
      ],
      "execution_count": 31,
      "outputs": [
        {
          "output_type": "stream",
          "text": [
            "centro\n"
          ],
          "name": "stdout"
        },
        {
          "output_type": "execute_result",
          "data": {
            "text/plain": [
              "0"
            ]
          },
          "metadata": {
            "tags": []
          },
          "execution_count": 31
        }
      ]
    }
  ]
}